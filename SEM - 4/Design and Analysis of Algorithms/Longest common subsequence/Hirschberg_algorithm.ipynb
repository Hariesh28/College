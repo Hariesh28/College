{
 "cells": [
  {
   "cell_type": "code",
   "execution_count": 1,
   "metadata": {},
   "outputs": [],
   "source": [
    "def lcs_length(x: str, y: str) -> list[int]:\n",
    "\n",
    "    m = len(y)\n",
    "\n",
    "    dp = [0 for _ in range(m + 1)]\n",
    "\n",
    "    for char in x:\n",
    "\n",
    "        prev = 0\n",
    "\n",
    "        for i in range(m):\n",
    "\n",
    "            temp = dp[i+1]\n",
    "\n",
    "            if char == y[i]:\n",
    "                dp[i+1] = prev + 1\n",
    "\n",
    "            else:\n",
    "                dp[i+1] = max(dp[i+1], dp[i])\n",
    "\n",
    "            prev = temp\n",
    "\n",
    "    return dp"
   ]
  },
  {
   "cell_type": "code",
   "execution_count": 2,
   "metadata": {},
   "outputs": [],
   "source": [
    "def hirschberg(x: str, y: str) -> str:\n",
    "\n",
    "    n = len(x)\n",
    "    m = len(y)\n",
    "\n",
    "    if n == 0:\n",
    "        return ''\n",
    "\n",
    "    if n == 1:\n",
    "        return x if x in y else ''\n",
    "\n",
    "    i = n // 2\n",
    "    x_left = x[:i]\n",
    "    x_right = x[i:]\n",
    "\n",
    "    left_length = lcs_length(x_left, y)\n",
    "    right_length = lcs_length(x_right[::-1], y[::-1])\n",
    "\n",
    "    max_val = 0\n",
    "    k = 0\n",
    "    for i in range(m+1):\n",
    "        if left_length[i] + right_length[m-i] > max_val:\n",
    "            max_val = left_length[i] + right_length[m-i]\n",
    "            k = i\n",
    "\n",
    "    return hirschberg(x_left, y[:k]) + hirschberg(x_right, y[k:])"
   ]
  },
  {
   "cell_type": "code",
   "execution_count": 3,
   "metadata": {},
   "outputs": [
    {
     "data": {
      "text/plain": [
       "'ABE'"
      ]
     },
     "execution_count": 3,
     "metadata": {},
     "output_type": "execute_result"
    }
   ],
   "source": [
    "hirschberg('ABQE', 'ACBE')"
   ]
  },
  {
   "cell_type": "code",
   "execution_count": null,
   "metadata": {},
   "outputs": [],
   "source": []
  }
 ],
 "metadata": {
  "kernelspec": {
   "display_name": "Python 3",
   "language": "python",
   "name": "python3"
  },
  "language_info": {
   "codemirror_mode": {
    "name": "ipython",
    "version": 3
   },
   "file_extension": ".py",
   "mimetype": "text/x-python",
   "name": "python",
   "nbconvert_exporter": "python",
   "pygments_lexer": "ipython3",
   "version": "3.11.6"
  }
 },
 "nbformat": 4,
 "nbformat_minor": 2
}
