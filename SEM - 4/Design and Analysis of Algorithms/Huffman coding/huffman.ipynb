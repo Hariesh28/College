{
 "cells": [
  {
   "cell_type": "code",
   "execution_count": 23,
   "metadata": {},
   "outputs": [],
   "source": [
    "import heapq"
   ]
  },
  {
   "cell_type": "code",
   "execution_count": 24,
   "metadata": {},
   "outputs": [],
   "source": [
    "class Node:\n",
    "\n",
    "    def __init__(self, char, frequency):\n",
    "        self.char = char\n",
    "        self.frequency = frequency\n",
    "        self.left = None\n",
    "        self.right = None\n",
    "\n",
    "    def __lt__(self, other):\n",
    "        return self.frequency < other.frequency"
   ]
  },
  {
   "cell_type": "code",
   "execution_count": 25,
   "metadata": {},
   "outputs": [],
   "source": [
    "text = \"huffman coding\""
   ]
  },
  {
   "cell_type": "code",
   "execution_count": 26,
   "metadata": {},
   "outputs": [],
   "source": [
    "def get_freq(text: str):\n",
    "\n",
    "    freq = {}\n",
    "\n",
    "    for char in text:\n",
    "        if char in freq:\n",
    "            freq[char] += 1\n",
    "\n",
    "        else:\n",
    "            freq[char] = 1\n",
    "\n",
    "    return freq"
   ]
  },
  {
   "cell_type": "code",
   "execution_count": 27,
   "metadata": {},
   "outputs": [
    {
     "data": {
      "text/plain": [
       "{'h': 1,\n",
       " 'u': 1,\n",
       " 'f': 2,\n",
       " 'm': 1,\n",
       " 'a': 1,\n",
       " 'n': 2,\n",
       " ' ': 1,\n",
       " 'c': 1,\n",
       " 'o': 1,\n",
       " 'd': 1,\n",
       " 'i': 1,\n",
       " 'g': 1}"
      ]
     },
     "execution_count": 27,
     "metadata": {},
     "output_type": "execute_result"
    }
   ],
   "source": [
    "get_freq(text)"
   ]
  },
  {
   "cell_type": "code",
   "execution_count": 28,
   "metadata": {},
   "outputs": [],
   "source": [
    "def build_tree(text):\n",
    "\n",
    "    nodes = [Node(char, frequency) for char, frequency in get_freq(text).items()]\n",
    "    heapq.heapify(nodes)\n",
    "\n",
    "    while len(nodes) > 1:\n",
    "        left = heapq.heappop(nodes)\n",
    "        right = heapq.heappop(nodes)\n",
    "\n",
    "        merged = Node(None, left.frequency + right.frequency)\n",
    "        merged.left = left\n",
    "        merged.right = right\n",
    "\n",
    "        heapq.heappush(nodes, merged)\n",
    "\n",
    "    return nodes[0]"
   ]
  },
  {
   "cell_type": "code",
   "execution_count": 29,
   "metadata": {},
   "outputs": [
    {
     "data": {
      "text/plain": [
       "<__main__.Node at 0x1b1c6086190>"
      ]
     },
     "execution_count": 29,
     "metadata": {},
     "output_type": "execute_result"
    }
   ],
   "source": [
    "root = build_tree(text)\n",
    "root"
   ]
  },
  {
   "cell_type": "code",
   "execution_count": 30,
   "metadata": {},
   "outputs": [],
   "source": [
    "def generate_codes(root: Node, code_prefix=\"\", result = {}):\n",
    "\n",
    "    if root is None:\n",
    "        return\n",
    "\n",
    "    if root.char is not None:\n",
    "        result[root.char] = code_prefix\n",
    "\n",
    "    generate_codes(root.left, code_prefix + '0', result)\n",
    "    generate_codes(root.right, code_prefix + '1', result)\n",
    "\n",
    "    return result"
   ]
  },
  {
   "cell_type": "code",
   "execution_count": 32,
   "metadata": {},
   "outputs": [
    {
     "data": {
      "text/plain": [
       "{'d': '000',\n",
       " 'o': '001',\n",
       " 'f': '010',\n",
       " 'n': '011',\n",
       " ' ': '1000',\n",
       " 'g': '1001',\n",
       " 'c': '1010',\n",
       " 'm': '1011',\n",
       " 'h': '1100',\n",
       " 'u': '1101',\n",
       " 'i': '1110',\n",
       " 'a': '1111'}"
      ]
     },
     "execution_count": 32,
     "metadata": {},
     "output_type": "execute_result"
    }
   ],
   "source": [
    "code_map = generate_codes(root)\n",
    "code_map"
   ]
  },
  {
   "cell_type": "code",
   "execution_count": 33,
   "metadata": {},
   "outputs": [
    {
     "data": {
      "text/plain": [
       "'11001101010010101111110111000101000100011100111001'"
      ]
     },
     "execution_count": 33,
     "metadata": {},
     "output_type": "execute_result"
    }
   ],
   "source": [
    "def encode(text):\n",
    "    return ''.join(code_map[char] for char in text)\n",
    "\n",
    "encode(text)"
   ]
  },
  {
   "cell_type": "code",
   "execution_count": 39,
   "metadata": {},
   "outputs": [],
   "source": [
    "def decode(encoded_text: str, root: Node):\n",
    "\n",
    "    current = root\n",
    "    answer = ''\n",
    "\n",
    "    for bit in encoded_text:\n",
    "\n",
    "        if bit == '0':\n",
    "            current = current.left\n",
    "\n",
    "        else:\n",
    "            current = current.right\n",
    "\n",
    "        if current.char is not None:\n",
    "            answer += current.char\n",
    "            current = root\n",
    "\n",
    "    return answer"
   ]
  },
  {
   "cell_type": "code",
   "execution_count": 40,
   "metadata": {},
   "outputs": [
    {
     "data": {
      "text/plain": [
       "'huffman coding'"
      ]
     },
     "execution_count": 40,
     "metadata": {},
     "output_type": "execute_result"
    }
   ],
   "source": [
    "decode(encode(text), root)"
   ]
  }
 ],
 "metadata": {
  "kernelspec": {
   "display_name": "Python 3",
   "language": "python",
   "name": "python3"
  },
  "language_info": {
   "codemirror_mode": {
    "name": "ipython",
    "version": 3
   },
   "file_extension": ".py",
   "mimetype": "text/x-python",
   "name": "python",
   "nbconvert_exporter": "python",
   "pygments_lexer": "ipython3",
   "version": "3.11.6"
  }
 },
 "nbformat": 4,
 "nbformat_minor": 2
}
