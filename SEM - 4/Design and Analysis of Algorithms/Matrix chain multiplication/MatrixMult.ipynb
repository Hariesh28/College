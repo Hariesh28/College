{
 "cells": [
  {
   "cell_type": "code",
   "execution_count": 1,
   "metadata": {},
   "outputs": [],
   "source": [
    "# input_arr = [30, 35, 15, 5, 10]\n",
    "input_arr = [5, 4, 6, 2, 7]"
   ]
  },
  {
   "cell_type": "code",
   "execution_count": 2,
   "metadata": {},
   "outputs": [
    {
     "data": {
      "text/plain": [
       "4"
      ]
     },
     "execution_count": 2,
     "metadata": {},
     "output_type": "execute_result"
    }
   ],
   "source": [
    "num_of_matrix = len(input_arr) - 1\n",
    "num_of_matrix"
   ]
  },
  {
   "cell_type": "code",
   "execution_count": 3,
   "metadata": {},
   "outputs": [],
   "source": [
    "def display_dp(dp: list[list[int]]) -> None:\n",
    "    for arr in dp: print(arr)"
   ]
  },
  {
   "cell_type": "code",
   "execution_count": 4,
   "metadata": {},
   "outputs": [
    {
     "name": "stdout",
     "output_type": "stream",
     "text": [
      "[0, 0, 0, 0]\n",
      "[0, 0, 0, 0]\n",
      "[0, 0, 0, 0]\n",
      "[0, 0, 0, 0]\n"
     ]
    }
   ],
   "source": [
    "dp = [[0]*num_of_matrix for _ in range(num_of_matrix)]\n",
    "backtrack = [[-1] * num_of_matrix for _ in range(num_of_matrix)]\n",
    "display_dp(dp)"
   ]
  },
  {
   "cell_type": "code",
   "execution_count": 5,
   "metadata": {},
   "outputs": [],
   "source": [
    "for start in range(1, num_of_matrix):\n",
    "\n",
    "    i = 0\n",
    "\n",
    "    for j in range(start, num_of_matrix):\n",
    "\n",
    "        min_cost = float('inf')\n",
    "        optimal_k = -1\n",
    "\n",
    "        for k in range(i, j):\n",
    "            cost = dp[i][k] + dp[k+1][j] + (input_arr[i] * input_arr[k+1] * input_arr[j+1])\n",
    "\n",
    "            if cost < min_cost:\n",
    "                min_cost = cost\n",
    "                optimal_k = k\n",
    "\n",
    "        dp[i][j] = min_cost\n",
    "        backtrack[i][j] = optimal_k\n",
    "\n",
    "        i += 1"
   ]
  },
  {
   "cell_type": "code",
   "execution_count": 6,
   "metadata": {},
   "outputs": [
    {
     "name": "stdout",
     "output_type": "stream",
     "text": [
      "[0, 120, 88, 158]\n",
      "[0, 0, 48, 104]\n",
      "[0, 0, 0, 84]\n",
      "[0, 0, 0, 0]\n"
     ]
    }
   ],
   "source": [
    "display_dp(dp)"
   ]
  },
  {
   "cell_type": "code",
   "execution_count": 7,
   "metadata": {},
   "outputs": [
    {
     "name": "stdout",
     "output_type": "stream",
     "text": [
      "[-1, 0, 0, 2]\n",
      "[-1, -1, 1, 2]\n",
      "[-1, -1, -1, 2]\n",
      "[-1, -1, -1, -1]\n"
     ]
    }
   ],
   "source": [
    "display_dp(backtrack)"
   ]
  },
  {
   "cell_type": "code",
   "execution_count": 8,
   "metadata": {},
   "outputs": [],
   "source": [
    "def print_optimal_parens(backtrack: list[list[int]], i: int, j: int) -> None:\n",
    "    if i == j:\n",
    "        print(f\" A{i+1} \", end=\"\")\n",
    "\n",
    "    else:\n",
    "        print(\"(\", end=\"\")\n",
    "\n",
    "        print_optimal_parens(backtrack, i, backtrack[i][j])\n",
    "        print_optimal_parens(backtrack, backtrack[i][j] + 1, j)\n",
    "\n",
    "        print(\")\", end=\"\")"
   ]
  },
  {
   "cell_type": "code",
   "execution_count": 9,
   "metadata": {},
   "outputs": [
    {
     "name": "stdout",
     "output_type": "stream",
     "text": [
      "(( A1 ( A2  A3 )) A4 )"
     ]
    }
   ],
   "source": [
    "print_optimal_parens(backtrack, 0, num_of_matrix - 1)"
   ]
  }
 ],
 "metadata": {
  "kernelspec": {
   "display_name": "Python 3",
   "language": "python",
   "name": "python3"
  },
  "language_info": {
   "codemirror_mode": {
    "name": "ipython",
    "version": 3
   },
   "file_extension": ".py",
   "mimetype": "text/x-python",
   "name": "python",
   "nbconvert_exporter": "python",
   "pygments_lexer": "ipython3",
   "version": "3.11.6"
  }
 },
 "nbformat": 4,
 "nbformat_minor": 2
}
