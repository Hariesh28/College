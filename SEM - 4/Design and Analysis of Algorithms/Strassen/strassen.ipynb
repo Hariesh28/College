{
 "cells": [
  {
   "cell_type": "code",
   "execution_count": 1,
   "metadata": {},
   "outputs": [],
   "source": [
    "import numpy as np"
   ]
  },
  {
   "cell_type": "code",
   "execution_count": 2,
   "metadata": {},
   "outputs": [],
   "source": [
    "A = np.array([\n",
    "    [1, 2, 3, 4],\n",
    "    [5, 6, 7, 8],\n",
    "    [9, 10, 11, 12],\n",
    "    [13, 14, 15, 16]\n",
    "])\n",
    "\n",
    "B = np.array([\n",
    "    [16, 15, 14, 13],\n",
    "    [12, 11, 10, 9],\n",
    "    [8, 7, 6, 5],\n",
    "    [4, 3, 2, 1]\n",
    "])"
   ]
  },
  {
   "cell_type": "code",
   "execution_count": 3,
   "metadata": {},
   "outputs": [],
   "source": [
    "def strassen(A: np.ndarray, B: np.ndarray):\n",
    "\n",
    "    n = A.shape[0]\n",
    "\n",
    "    if n == 1:\n",
    "        return A * B\n",
    "\n",
    "    mid = n // 2\n",
    "\n",
    "    a = A[:mid, :mid]\n",
    "    b = A[:mid, mid:]\n",
    "    c = A[mid:, :mid]\n",
    "    d = A[mid:, mid:]\n",
    "    e = B[:mid, :mid]\n",
    "    f = B[:mid, mid:]\n",
    "    g = B[mid:, :mid]\n",
    "    h = B[mid:, mid:]\n",
    "\n",
    "    p1 = strassen(a, (f - h))\n",
    "    p2 = strassen((a + b), h)\n",
    "    p3 = strassen((c + d), e)\n",
    "    p4 = strassen(d, (g - e))\n",
    "    p5 = strassen((a + d), (e + h))\n",
    "    p6 = strassen((b - d), (g + h))\n",
    "    p7 = strassen((a - c), (e + f))\n",
    "\n",
    "    c11 = p5 + p4 - p2 + p6\n",
    "    c12 = p1 + p2\n",
    "    c21 = p3 + p4\n",
    "    c22 = p1 + p5 - p3 - p7\n",
    "\n",
    "    c = np.zeros((n, n))\n",
    "    c[:mid, :mid] = c11\n",
    "    c[:mid, mid:] = c12\n",
    "    c[mid:, :mid] = c21\n",
    "    c[mid:, mid:] = c22\n",
    "\n",
    "    return c\n"
   ]
  },
  {
   "cell_type": "code",
   "execution_count": 4,
   "metadata": {},
   "outputs": [
    {
     "data": {
      "text/plain": [
       "array([[ 80.,  70.,  60.,  50.],\n",
       "       [240., 214., 188., 162.],\n",
       "       [400., 358., 316., 274.],\n",
       "       [560., 502., 444., 386.]])"
      ]
     },
     "execution_count": 4,
     "metadata": {},
     "output_type": "execute_result"
    }
   ],
   "source": [
    "strassen(A, B)"
   ]
  },
  {
   "cell_type": "code",
   "execution_count": 5,
   "metadata": {},
   "outputs": [
    {
     "data": {
      "text/plain": [
       "array([[ 80,  70,  60,  50],\n",
       "       [240, 214, 188, 162],\n",
       "       [400, 358, 316, 274],\n",
       "       [560, 502, 444, 386]])"
      ]
     },
     "execution_count": 5,
     "metadata": {},
     "output_type": "execute_result"
    }
   ],
   "source": [
    "A @ B"
   ]
  },
  {
   "cell_type": "code",
   "execution_count": 6,
   "metadata": {},
   "outputs": [
    {
     "data": {
      "text/plain": [
       "64"
      ]
     },
     "execution_count": 6,
     "metadata": {},
     "output_type": "execute_result"
    }
   ],
   "source": [
    "import math\n",
    "a = 33\n",
    "2 ** math.ceil(math.log2(a))"
   ]
  },
  {
   "cell_type": "code",
   "execution_count": 7,
   "metadata": {},
   "outputs": [],
   "source": [
    "def strassen_pro(A: np.ndarray, B: np.ndarray) -> np.ndarray | None:\n",
    "\n",
    "    m, n = A.shape\n",
    "    nB, p = B.shape\n",
    "\n",
    "    if n != nB:\n",
    "        print('No you don\\'t')\n",
    "        return None\n",
    "\n",
    "    pad = 2 ** math.ceil(math.log2(max(m, n, p)))\n",
    "\n",
    "    A_padded = np.zeros((pad, pad))\n",
    "    B_padded = np.zeros((pad, pad))\n",
    "\n",
    "    A_padded[:m, :n] = A\n",
    "    B_padded[:n, :p] = B\n",
    "\n",
    "    C_padded = strassen(A_padded, B_padded)\n",
    "    C = C_padded[:m, :p]\n",
    "\n",
    "    return C"
   ]
  },
  {
   "cell_type": "code",
   "execution_count": 8,
   "metadata": {},
   "outputs": [],
   "source": [
    "A = np.array([\n",
    "    [1, 2],\n",
    "    [3, 4],\n",
    "    [5, 6]\n",
    "])\n",
    "\n",
    "B = np.array([\n",
    "    [7, 8, 9, 10],\n",
    "    [11, 12, 13, 14]\n",
    "])"
   ]
  },
  {
   "cell_type": "code",
   "execution_count": 9,
   "metadata": {},
   "outputs": [
    {
     "data": {
      "text/plain": [
       "array([[ 29.,  32.,  35.,  38.],\n",
       "       [ 65.,  72.,  79.,  86.],\n",
       "       [101., 112., 123., 134.]])"
      ]
     },
     "execution_count": 9,
     "metadata": {},
     "output_type": "execute_result"
    }
   ],
   "source": [
    "strassen_pro(A, B)"
   ]
  }
 ],
 "metadata": {
  "kernelspec": {
   "display_name": "Python 3",
   "language": "python",
   "name": "python3"
  },
  "language_info": {
   "codemirror_mode": {
    "name": "ipython",
    "version": 3
   },
   "file_extension": ".py",
   "mimetype": "text/x-python",
   "name": "python",
   "nbconvert_exporter": "python",
   "pygments_lexer": "ipython3",
   "version": "3.11.6"
  }
 },
 "nbformat": 4,
 "nbformat_minor": 2
}
