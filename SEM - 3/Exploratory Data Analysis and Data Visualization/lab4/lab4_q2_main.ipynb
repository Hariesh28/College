{
 "cells": [
  {
   "cell_type": "code",
   "execution_count": 1,
   "metadata": {},
   "outputs": [],
   "source": [
    "from sklearn.model_selection import train_test_split\n",
    "from sklearn.datasets import make_friedman1, fetch_california_housing\n",
    "from sklearn.feature_selection import RFE, SelectFromModel, SequentialFeatureSelector\n",
    "from sklearn.linear_model import LinearRegression\n",
    "from sklearn.metrics import mean_squared_error"
   ]
  },
  {
   "cell_type": "markdown",
   "metadata": {},
   "source": [
    "# RFE (Recursive Feature Elimination)"
   ]
  },
  {
   "cell_type": "code",
   "execution_count": 2,
   "metadata": {},
   "outputs": [
    {
     "data": {
      "text/plain": [
       "(array([[0.61872753, 0.13286871, 0.06268441, 0.08696222, 0.06166789,\n",
       "         0.38447693, 0.54038678, 0.69004686, 0.41164291, 0.93419334],\n",
       "        [0.38038024, 0.17664941, 0.43945562, 0.30472055, 0.02851119,\n",
       "         0.55151313, 0.04061533, 0.65304534, 0.90059443, 0.84054892],\n",
       "        [0.08614525, 0.36064419, 0.57217889, 0.84425562, 0.74224878,\n",
       "         0.08732162, 0.54437779, 0.70212643, 0.03109308, 0.83691398],\n",
       "        [0.36019674, 0.60832591, 0.89833837, 0.84928749, 0.34479599,\n",
       "         0.17593135, 0.80510918, 0.66120494, 0.05070365, 0.9470378 ],\n",
       "        [0.50490944, 0.5079982 , 0.5289278 , 0.19919771, 0.60345661,\n",
       "         0.53121016, 0.71851357, 0.38877559, 0.00742659, 0.10323672],\n",
       "        [0.87414876, 0.40789045, 0.85453975, 0.58405567, 0.65091682,\n",
       "         0.72165315, 0.14433221, 0.60307822, 0.75388884, 0.33347017],\n",
       "        [0.77843942, 0.62854838, 0.08528813, 0.71450045, 0.7000089 ,\n",
       "         0.94404287, 0.34182363, 0.71413226, 0.39340968, 0.91845437],\n",
       "        [0.9591743 , 0.3219406 , 0.903693  , 0.53675831, 0.2896969 ,\n",
       "         0.607572  , 0.16377231, 0.2327117 , 0.00599046, 0.85523328],\n",
       "        [0.1086055 , 0.99914135, 0.805991  , 0.88351578, 0.51390955,\n",
       "         0.08212445, 0.6051451 , 0.61724791, 0.35089344, 0.20112167],\n",
       "        [0.47518838, 0.32989817, 0.44253069, 0.66503055, 0.39727678,\n",
       "         0.85413654, 0.01627041, 0.06560065, 0.23948056, 0.45334455],\n",
       "        [0.38363359, 0.28361909, 0.52736229, 0.09798554, 0.23905069,\n",
       "         0.73853627, 0.95481134, 0.60364282, 0.23496933, 0.96916025],\n",
       "        [0.07080215, 0.4938431 , 0.54065223, 0.57757179, 0.43956955,\n",
       "         0.65950376, 0.3739894 , 0.13947869, 0.279149  , 0.87996952],\n",
       "        [0.06677693, 0.96613235, 0.76444563, 0.11806164, 0.05868006,\n",
       "         0.41151388, 0.34208597, 0.14106163, 0.28669687, 0.48908005],\n",
       "        [0.30859511, 0.29882025, 0.6363596 , 0.79331752, 0.11991959,\n",
       "         0.02255182, 0.49743562, 0.05305798, 0.73497046, 0.02909252],\n",
       "        [0.59761047, 0.9438838 , 0.45741621, 0.87596374, 0.36439049,\n",
       "         0.33442297, 0.44431936, 0.80384277, 0.39662796, 0.80628599],\n",
       "        [0.1036759 , 0.87502995, 0.49273042, 0.48743044, 0.56202839,\n",
       "         0.67599583, 0.45224175, 0.69393231, 0.19340898, 0.74352749],\n",
       "        [0.25399796, 0.68735307, 0.43392194, 0.94623776, 0.285399  ,\n",
       "         0.57095804, 0.4726972 , 0.66775243, 0.93366339, 0.37549601],\n",
       "        [0.5436663 , 0.71675624, 0.6309072 , 0.305991  , 0.18519129,\n",
       "         0.03662588, 0.58743033, 0.29764981, 0.21671077, 0.19753011],\n",
       "        [0.02020905, 0.06145152, 0.30018249, 0.33379073, 0.27631885,\n",
       "         0.33498222, 0.94106821, 0.02969489, 0.62769679, 0.89879059],\n",
       "        [0.86721953, 0.48301063, 0.94509987, 0.54875944, 0.59542624,\n",
       "         0.12855518, 0.4335439 , 0.95085552, 0.14170363, 0.14698305],\n",
       "        [0.69431047, 0.72337382, 0.26092702, 0.56326366, 0.62320466,\n",
       "         0.89559753, 0.5118124 , 0.7553064 , 0.22159725, 0.45245962],\n",
       "        [0.74723561, 0.96155026, 0.10189005, 0.23140909, 0.74134344,\n",
       "         0.25715196, 0.07265561, 0.12552057, 0.50661646, 0.56394716],\n",
       "        [0.27607917, 0.16584758, 0.6505033 , 0.58521589, 0.19078317,\n",
       "         0.34179314, 0.561059  , 0.62730583, 0.56182327, 0.70352078],\n",
       "        [0.42613217, 0.15546197, 0.12293921, 0.40375579, 0.97345628,\n",
       "         0.07952976, 0.24294955, 0.55231694, 0.36291874, 0.10947044],\n",
       "        [0.20821079, 0.58411884, 0.93252642, 0.08471651, 0.85684547,\n",
       "         0.09823038, 0.7575978 , 0.80937707, 0.97874186, 0.11263217],\n",
       "        [0.28547246, 0.43791034, 0.12602822, 0.68233978, 0.40534108,\n",
       "         0.87268812, 0.78255407, 0.76292134, 0.73895771, 0.06627057],\n",
       "        [0.93846318, 0.81048176, 0.9856055 , 0.13528756, 0.24939931,\n",
       "         0.28017739, 0.90788981, 0.8874028 , 0.11369406, 0.0916685 ],\n",
       "        [0.53990195, 0.83746621, 0.28808203, 0.97788881, 0.23143085,\n",
       "         0.31442355, 0.56588308, 0.22224323, 0.33985535, 0.38579354],\n",
       "        [0.98918121, 0.24962157, 0.29372606, 0.56070281, 0.64627023,\n",
       "         0.8480957 , 0.05586226, 0.57297016, 0.56527908, 0.06282122],\n",
       "        [0.72000688, 0.06286481, 0.41173437, 0.05401062, 0.02751956,\n",
       "         0.20469952, 0.16274108, 0.07447453, 0.4335332 , 0.90575222],\n",
       "        [0.63521183, 0.66228273, 0.7105646 , 0.39837337, 0.465037  ,\n",
       "         0.40777987, 0.847196  , 0.75558045, 0.08872018, 0.92483015],\n",
       "        [0.38830882, 0.94920866, 0.8917847 , 0.64341882, 0.18686313,\n",
       "         0.93033812, 0.23697852, 0.78242066, 0.90235575, 0.8822235 ],\n",
       "        [0.66665204, 0.80081554, 0.98306821, 0.61981189, 0.82117219,\n",
       "         0.69872979, 0.2611759 , 0.69202664, 0.34968717, 0.25455092],\n",
       "        [0.84222638, 0.13942193, 0.16950536, 0.54807875, 0.18796935,\n",
       "         0.44533557, 0.91074081, 0.76533443, 0.27690185, 0.2691023 ],\n",
       "        [0.66435749, 0.21377601, 0.17268975, 0.55374364, 0.52409459,\n",
       "         0.68350776, 0.55808779, 0.55524453, 0.88014847, 0.64781885],\n",
       "        [0.07911855, 0.03819954, 0.42460187, 0.89958878, 0.70701149,\n",
       "         0.58613862, 0.74267718, 0.74539325, 0.66389696, 0.51985557],\n",
       "        [0.26573142, 0.88686662, 0.674173  , 0.11059451, 0.83794132,\n",
       "         0.0194961 , 0.90374042, 0.45738201, 0.8473288 , 0.10172343],\n",
       "        [0.73009157, 0.21664182, 0.39614895, 0.9767447 , 0.08834734,\n",
       "         0.52547923, 0.08809245, 0.47894497, 0.47642344, 0.4514955 ],\n",
       "        [0.08228476, 0.82443362, 0.46258235, 0.95795654, 0.94115116,\n",
       "         0.36811682, 0.85917523, 0.44964492, 0.22508504, 0.90391792],\n",
       "        [0.97160858, 0.0869465 , 0.55502698, 0.47676764, 0.21076011,\n",
       "         0.05243702, 0.88517796, 0.35963121, 0.22108983, 0.03748668],\n",
       "        [0.73319379, 0.30061979, 0.10292114, 0.81569099, 0.7311726 ,\n",
       "         0.52337824, 0.79211003, 0.20803238, 0.82051183, 0.60366082],\n",
       "        [0.67359295, 0.62820528, 0.50954413, 0.22573977, 0.26379292,\n",
       "         0.64647663, 0.32186187, 0.09104365, 0.55410648, 0.55976499],\n",
       "        [0.61254409, 0.80218988, 0.73159001, 0.39206995, 0.48388629,\n",
       "         0.49605297, 0.03109658, 0.48525578, 0.69826573, 0.87979261],\n",
       "        [0.95988758, 0.5988249 , 0.69941132, 0.96739091, 0.9954061 ,\n",
       "         0.21007083, 0.53122446, 0.22114108, 0.44086689, 0.09287708],\n",
       "        [0.73367211, 0.9075798 , 0.63261751, 0.70861693, 0.43345524,\n",
       "         0.26362746, 0.97716005, 0.27483623, 0.70650153, 0.00359989],\n",
       "        [0.69745561, 0.19243299, 0.97034399, 0.6386481 , 0.0015938 ,\n",
       "         0.83642718, 0.67503738, 0.01602846, 0.49663984, 0.87200694],\n",
       "        [0.5741789 , 0.75841617, 0.68198869, 0.47698421, 0.61542655,\n",
       "         0.20220825, 0.82518687, 0.13533534, 0.74799082, 0.18425887],\n",
       "        [0.81810293, 0.96099607, 0.10700499, 0.0101047 , 0.08175339,\n",
       "         0.38770508, 0.04955333, 0.04568964, 0.47722087, 0.80625657],\n",
       "        [0.99673262, 0.9667608 , 0.23242879, 0.41105503, 0.1687307 ,\n",
       "         0.21677139, 0.21287178, 0.96415341, 0.69136582, 0.988683  ],\n",
       "        [0.2904542 , 0.42978405, 0.18579273, 0.10071096, 0.96386691,\n",
       "         0.98891495, 0.48075017, 0.70187801, 0.31129195, 0.59449644],\n",
       "        [0.76648672, 0.02534781, 0.81572534, 0.47050256, 0.75384794,\n",
       "         0.95511452, 0.12882166, 0.68503788, 0.72338555, 0.46801211],\n",
       "        [0.35962695, 0.7784084 , 0.76456354, 0.61553444, 0.86674022,\n",
       "         0.75015765, 0.76153364, 0.02480844, 0.00141552, 0.14257897],\n",
       "        [0.58077562, 0.67948914, 0.41621873, 0.27651543, 0.58280256,\n",
       "         0.4363242 , 0.77375131, 0.15281002, 0.77323878, 0.38416783],\n",
       "        [0.31255855, 0.11282086, 0.83409394, 0.00739582, 0.79694156,\n",
       "         0.96944975, 0.55184177, 0.54193843, 0.82489834, 0.23601185],\n",
       "        [0.9011488 , 0.81075641, 0.08689667, 0.62683173, 0.05595584,\n",
       "         0.19349721, 0.13153417, 0.2050434 , 0.6924578 , 0.70828051],\n",
       "        [0.3448894 , 0.3880355 , 0.74984899, 0.90387388, 0.69617773,\n",
       "         0.81108611, 0.6359863 , 0.62892693, 0.36869715, 0.99341753],\n",
       "        [0.20492443, 0.4926698 , 0.54390714, 0.7604007 , 0.5620038 ,\n",
       "         0.29455304, 0.63146757, 0.51631115, 0.38532119, 0.4144486 ],\n",
       "        [0.37273637, 0.17297381, 0.49096876, 0.47224528, 0.40038649,\n",
       "         0.83112381, 0.10531365, 0.1685274 , 0.79368891, 0.10080285],\n",
       "        [0.69642724, 0.04769472, 0.49716238, 0.86968408, 0.16099153,\n",
       "         0.98663068, 0.49119321, 0.32467776, 0.53565284, 0.6505325 ],\n",
       "        [0.66275851, 0.33034097, 0.99588917, 0.64444244, 0.49821979,\n",
       "         0.9714703 , 0.81932919, 0.71230046, 0.43034897, 0.30239869],\n",
       "        [0.69935883, 0.2076994 , 0.09104278, 0.71560885, 0.3620948 ,\n",
       "         0.86402064, 0.12210838, 0.97807888, 0.10930613, 0.5730108 ],\n",
       "        [0.53965015, 0.05604881, 0.85490443, 0.8447512 , 0.93019007,\n",
       "         0.94437661, 0.9252823 , 0.33662312, 0.15462633, 0.9208596 ],\n",
       "        [0.48226165, 0.4315419 , 0.29038674, 0.16457814, 0.38910639,\n",
       "         0.6174616 , 0.60826119, 0.28318735, 0.7606854 , 0.95274404],\n",
       "        [0.9625232 , 0.32572616, 0.21800127, 0.02017962, 0.4118106 ,\n",
       "         0.77713779, 0.18411569, 0.91111369, 0.79026623, 0.41659915],\n",
       "        [0.56503788, 0.86146574, 0.39688569, 0.68245368, 0.74152042,\n",
       "         0.97399093, 0.93509361, 0.0685514 , 0.40663152, 0.36236671],\n",
       "        [0.95921619, 0.52512596, 0.78494356, 0.87971017, 0.95720481,\n",
       "         0.09868375, 0.96852491, 0.7156719 , 0.15660249, 0.22146737],\n",
       "        [0.99974228, 0.51042281, 0.21483057, 0.04940566, 0.5540356 ,\n",
       "         0.32409306, 0.16751422, 0.09667308, 0.46439424, 0.17088961],\n",
       "        [0.01838552, 0.77312838, 0.48896301, 0.98096062, 0.47936384,\n",
       "         0.30081812, 0.31259923, 0.78487338, 0.62642558, 0.22048853],\n",
       "        [0.07851571, 0.4848039 , 0.57443414, 0.76302049, 0.88788173,\n",
       "         0.37739634, 0.39050337, 0.35740897, 0.29219871, 0.83497862],\n",
       "        [0.23351643, 0.07081051, 0.39976541, 0.70511561, 0.92675422,\n",
       "         0.1511677 , 0.30927549, 0.68355251, 0.93968839, 0.84094138],\n",
       "        [0.52411876, 0.10491765, 0.13885653, 0.05291296, 0.51734994,\n",
       "         0.45447008, 0.92185294, 0.03920442, 0.86873527, 0.10743061],\n",
       "        [0.3010758 , 0.40908651, 0.707113  , 0.44734414, 0.45841513,\n",
       "         0.23562339, 0.34033188, 0.26837597, 0.11743136, 0.62859298],\n",
       "        [0.47710298, 0.24548932, 0.62431038, 0.60509036, 0.62085881,\n",
       "         0.6013705 , 0.74409936, 0.18205714, 0.79487212, 0.38204166],\n",
       "        [0.65156463, 0.25161207, 0.20407852, 0.60353578, 0.45692383,\n",
       "         0.32891065, 0.47161268, 0.54352283, 0.62625217, 0.77470935],\n",
       "        [0.87581785, 0.68986795, 0.30086957, 0.9671945 , 0.63536344,\n",
       "         0.91947968, 0.37400568, 0.51632015, 0.38667325, 0.51689625],\n",
       "        [0.10114837, 0.68170887, 0.37868448, 0.00721702, 0.09118673,\n",
       "         0.88735829, 0.10410636, 0.31939775, 0.16211916, 0.39431962],\n",
       "        [0.81511739, 0.17700927, 0.31067332, 0.77680132, 0.53025783,\n",
       "         0.0415289 , 0.05991072, 0.85550847, 0.57165645, 0.20812907],\n",
       "        [0.03526029, 0.7305789 , 0.27447034, 0.01476773, 0.18094398,\n",
       "         0.82896216, 0.64370914, 0.51217372, 0.97265067, 0.68471956],\n",
       "        [0.33239068, 0.93400833, 0.05214022, 0.25694022, 0.64207505,\n",
       "         0.54530174, 0.4470986 , 0.87182538, 0.8364861 , 0.32985686],\n",
       "        [0.27765813, 0.40322862, 0.73289542, 0.53647427, 0.1257605 ,\n",
       "         0.60406235, 0.50655726, 0.08027042, 0.97275861, 0.20137941],\n",
       "        [0.59388393, 0.58799915, 0.53382608, 0.32668477, 0.78132215,\n",
       "         0.68364363, 0.09872717, 0.94739348, 0.2676151 , 0.40348002],\n",
       "        [0.94803794, 0.04506786, 0.74143686, 0.13529658, 0.86113448,\n",
       "         0.63784474, 0.38295273, 0.89682311, 0.28807593, 0.54123508],\n",
       "        [0.76368698, 0.62997832, 0.25275819, 0.01227549, 0.95464375,\n",
       "         0.39536378, 0.66908516, 0.04964625, 0.95602554, 0.31702139],\n",
       "        [0.16723113, 0.3497329 , 0.87066948, 0.35775038, 0.97881554,\n",
       "         0.22397834, 0.27648606, 0.19541332, 0.21452887, 0.34406699],\n",
       "        [0.96505143, 0.93942062, 0.73074514, 0.0885963 , 0.72379913,\n",
       "         0.02598267, 0.74834174, 0.47825434, 0.42372375, 0.70137453],\n",
       "        [0.12862193, 0.94671862, 0.79656745, 0.96175588, 0.29982337,\n",
       "         0.72657391, 0.80238295, 0.83587456, 0.65959075, 0.26360791],\n",
       "        [0.35138736, 0.19997725, 0.26999147, 0.04039656, 0.02702981,\n",
       "         0.20726953, 0.45935106, 0.55998998, 0.30762198, 0.72176382],\n",
       "        [0.39378289, 0.6582814 , 0.69396907, 0.14678612, 0.7437493 ,\n",
       "         0.48018334, 0.66046184, 0.85504028, 0.33271413, 0.09649582],\n",
       "        [0.89237725, 0.99376455, 0.99485658, 0.95667205, 0.9795756 ,\n",
       "         0.13803388, 0.62167338, 0.09412402, 0.85477791, 0.31101038],\n",
       "        [0.37572058, 0.49645557, 0.41908099, 0.8953111 , 0.89171525,\n",
       "         0.51292455, 0.85362445, 0.08407925, 0.59464854, 0.87208914],\n",
       "        [0.05508324, 0.41693864, 0.66824049, 0.75279372, 0.8079946 ,\n",
       "         0.33190759, 0.79723137, 0.40050001, 0.41885657, 0.35638229],\n",
       "        [0.98102967, 0.49607653, 0.20198098, 0.69200866, 0.8567186 ,\n",
       "         0.18698905, 0.20921675, 0.41511674, 0.01409821, 0.26418843],\n",
       "        [0.39800871, 0.93569996, 0.80506654, 0.00993662, 0.41749887,\n",
       "         0.27422146, 0.45594714, 0.15844665, 0.4766995 , 0.22295222],\n",
       "        [0.14440718, 0.34161673, 0.39960124, 0.77046734, 0.54826301,\n",
       "         0.67361367, 0.77839514, 0.54592334, 0.65272383, 0.05435222],\n",
       "        [0.52544683, 0.43548236, 0.6177782 , 0.25699276, 0.46661422,\n",
       "         0.86962166, 0.01243439, 0.43137327, 0.13453483, 0.54095471],\n",
       "        [0.09903698, 0.32143783, 0.93535138, 0.11305217, 0.98108511,\n",
       "         0.30492384, 0.17379119, 0.22575229, 0.42493495, 0.37572436],\n",
       "        [0.61922665, 0.25241837, 0.03627868, 0.16022561, 0.84337309,\n",
       "         0.19792412, 0.11840031, 0.51405335, 0.33947926, 0.8251536 ],\n",
       "        [0.96469374, 0.60664327, 0.6054422 , 0.07393042, 0.1543766 ,\n",
       "         0.73191979, 0.84517387, 0.3636459 , 0.65887386, 0.67034646],\n",
       "        [0.46048985, 0.68384447, 0.88142656, 0.13073488, 0.90358061,\n",
       "         0.5925208 , 0.16908363, 0.39801626, 0.66382792, 0.16879581],\n",
       "        [0.20475701, 0.5149155 , 0.82643325, 0.92796255, 0.02592221,\n",
       "         0.5703897 , 0.6283595 , 0.80280049, 0.3191815 , 0.93346548]]),\n",
       " array([ 7.55693211,  5.35839083, 13.23247023, 19.74316542, 12.23982329,\n",
       "        20.61079628, 24.07910438, 18.32493469, 16.62068174, 13.43093995,\n",
       "         5.54213951,  9.10287266,  4.8856078 , 11.76130226, 20.41593813,\n",
       "        10.49711384, 16.1905979 , 13.73395746,  5.5570569 , 22.10399508,\n",
       "        19.89152875, 16.9256319 ,  8.69258719, 13.8145657 , 12.60148769,\n",
       "        15.47436456, 14.14767712, 21.72144947, 16.69169699,  2.25071529,\n",
       "        16.88686596, 19.59822363, 24.91453586, 12.21107396, 14.61578122,\n",
       "        12.7395895 , 12.64801601, 15.19191685, 16.4284299 ,  8.5049443 ,\n",
       "        21.35042658, 13.2881863 , 17.40914024, 25.17136772, 18.27799739,\n",
       "        14.91153007, 18.30456245,  9.82183089,  7.52707667, 11.62294286,\n",
       "        11.07790869, 19.59278626, 15.27664258,  7.39660035, 17.44956223,\n",
       "        17.84971433, 13.5714241 ,  8.73769385, 10.54357504, 20.20210054,\n",
       "        16.71810677, 16.56640564, 10.55226658, 12.18375346, 20.73614179,\n",
       "        25.20630344, 14.88544062, 12.65527096, 13.37341273, 12.40510858,\n",
       "         7.44333148, 11.39697445, 13.06133897, 14.9970421 , 23.11079894,\n",
       "         2.97179609, 15.51535589,  2.87807411, 18.07018876, 10.52359155,\n",
       "        16.09501617,  8.16272453, 16.10093312, 13.0465767 ,  8.46247242,\n",
       "        16.60857464,  3.78688679, 13.21197663, 22.84367391, 19.07294642,\n",
       "        12.85489013, 22.97121341, 13.25560697, 12.19119756, 11.76576565,\n",
       "        10.82499926, 14.83533931, 11.37725519, 17.09138398, 14.79243762]))"
      ]
     },
     "execution_count": 2,
     "metadata": {},
     "output_type": "execute_result"
    }
   ],
   "source": [
    "data = make_friedman1()\n",
    "data"
   ]
  },
  {
   "cell_type": "code",
   "execution_count": 3,
   "metadata": {},
   "outputs": [],
   "source": [
    "X = data[0]\n",
    "y = data[1]"
   ]
  },
  {
   "cell_type": "code",
   "execution_count": 4,
   "metadata": {},
   "outputs": [
    {
     "name": "stdout",
     "output_type": "stream",
     "text": [
      "(100, 10)\n",
      "(100,)\n"
     ]
    }
   ],
   "source": [
    "print(X.shape)\n",
    "print(y.shape)"
   ]
  },
  {
   "cell_type": "code",
   "execution_count": 5,
   "metadata": {},
   "outputs": [],
   "source": [
    "estimator = LinearRegression()"
   ]
  },
  {
   "cell_type": "code",
   "execution_count": 6,
   "metadata": {},
   "outputs": [],
   "source": [
    "selector = RFE(\n",
    "    estimator=estimator,\n",
    "    n_features_to_select=3,\n",
    ")"
   ]
  },
  {
   "cell_type": "code",
   "execution_count": 7,
   "metadata": {},
   "outputs": [],
   "source": [
    "selector = selector.fit(X, y)"
   ]
  },
  {
   "cell_type": "code",
   "execution_count": 8,
   "metadata": {},
   "outputs": [
    {
     "name": "stdout",
     "output_type": "stream",
     "text": [
      "Feature ranking: [1 2 6 1 1 3 8 7 5 4]\n",
      "Selected features: [ True False False  True  True False False False False False]\n"
     ]
    }
   ],
   "source": [
    "print(\"Feature ranking:\", selector.ranking_)\n",
    "print(\"Selected features:\", selector.support_)\n"
   ]
  },
  {
   "cell_type": "code",
   "execution_count": 9,
   "metadata": {},
   "outputs": [
    {
     "data": {
      "text/plain": [
       "(100, 3)"
      ]
     },
     "execution_count": 9,
     "metadata": {},
     "output_type": "execute_result"
    }
   ],
   "source": [
    "X_new = selector.transform(X)\n",
    "X_new.shape"
   ]
  },
  {
   "cell_type": "markdown",
   "metadata": {},
   "source": [
    "# SelectFromModel"
   ]
  },
  {
   "cell_type": "code",
   "execution_count": 10,
   "metadata": {},
   "outputs": [],
   "source": [
    "data = fetch_california_housing()\n",
    "X = data.data\n",
    "y = data.target"
   ]
  },
  {
   "cell_type": "code",
   "execution_count": 11,
   "metadata": {},
   "outputs": [],
   "source": [
    "X_train, X_test, y_train, y_test = train_test_split(X, y, test_size=0.3, random_state=42)"
   ]
  },
  {
   "cell_type": "code",
   "execution_count": 12,
   "metadata": {},
   "outputs": [
    {
     "data": {
      "text/html": [
       "<style>#sk-container-id-1 {color: black;background-color: white;}#sk-container-id-1 pre{padding: 0;}#sk-container-id-1 div.sk-toggleable {background-color: white;}#sk-container-id-1 label.sk-toggleable__label {cursor: pointer;display: block;width: 100%;margin-bottom: 0;padding: 0.3em;box-sizing: border-box;text-align: center;}#sk-container-id-1 label.sk-toggleable__label-arrow:before {content: \"▸\";float: left;margin-right: 0.25em;color: #696969;}#sk-container-id-1 label.sk-toggleable__label-arrow:hover:before {color: black;}#sk-container-id-1 div.sk-estimator:hover label.sk-toggleable__label-arrow:before {color: black;}#sk-container-id-1 div.sk-toggleable__content {max-height: 0;max-width: 0;overflow: hidden;text-align: left;background-color: #f0f8ff;}#sk-container-id-1 div.sk-toggleable__content pre {margin: 0.2em;color: black;border-radius: 0.25em;background-color: #f0f8ff;}#sk-container-id-1 input.sk-toggleable__control:checked~div.sk-toggleable__content {max-height: 200px;max-width: 100%;overflow: auto;}#sk-container-id-1 input.sk-toggleable__control:checked~label.sk-toggleable__label-arrow:before {content: \"▾\";}#sk-container-id-1 div.sk-estimator input.sk-toggleable__control:checked~label.sk-toggleable__label {background-color: #d4ebff;}#sk-container-id-1 div.sk-label input.sk-toggleable__control:checked~label.sk-toggleable__label {background-color: #d4ebff;}#sk-container-id-1 input.sk-hidden--visually {border: 0;clip: rect(1px 1px 1px 1px);clip: rect(1px, 1px, 1px, 1px);height: 1px;margin: -1px;overflow: hidden;padding: 0;position: absolute;width: 1px;}#sk-container-id-1 div.sk-estimator {font-family: monospace;background-color: #f0f8ff;border: 1px dotted black;border-radius: 0.25em;box-sizing: border-box;margin-bottom: 0.5em;}#sk-container-id-1 div.sk-estimator:hover {background-color: #d4ebff;}#sk-container-id-1 div.sk-parallel-item::after {content: \"\";width: 100%;border-bottom: 1px solid gray;flex-grow: 1;}#sk-container-id-1 div.sk-label:hover label.sk-toggleable__label {background-color: #d4ebff;}#sk-container-id-1 div.sk-serial::before {content: \"\";position: absolute;border-left: 1px solid gray;box-sizing: border-box;top: 0;bottom: 0;left: 50%;z-index: 0;}#sk-container-id-1 div.sk-serial {display: flex;flex-direction: column;align-items: center;background-color: white;padding-right: 0.2em;padding-left: 0.2em;position: relative;}#sk-container-id-1 div.sk-item {position: relative;z-index: 1;}#sk-container-id-1 div.sk-parallel {display: flex;align-items: stretch;justify-content: center;background-color: white;position: relative;}#sk-container-id-1 div.sk-item::before, #sk-container-id-1 div.sk-parallel-item::before {content: \"\";position: absolute;border-left: 1px solid gray;box-sizing: border-box;top: 0;bottom: 0;left: 50%;z-index: -1;}#sk-container-id-1 div.sk-parallel-item {display: flex;flex-direction: column;z-index: 1;position: relative;background-color: white;}#sk-container-id-1 div.sk-parallel-item:first-child::after {align-self: flex-end;width: 50%;}#sk-container-id-1 div.sk-parallel-item:last-child::after {align-self: flex-start;width: 50%;}#sk-container-id-1 div.sk-parallel-item:only-child::after {width: 0;}#sk-container-id-1 div.sk-dashed-wrapped {border: 1px dashed gray;margin: 0 0.4em 0.5em 0.4em;box-sizing: border-box;padding-bottom: 0.4em;background-color: white;}#sk-container-id-1 div.sk-label label {font-family: monospace;font-weight: bold;display: inline-block;line-height: 1.2em;}#sk-container-id-1 div.sk-label-container {text-align: center;}#sk-container-id-1 div.sk-container {/* jupyter's `normalize.less` sets `[hidden] { display: none; }` but bootstrap.min.css set `[hidden] { display: none !important; }` so we also need the `!important` here to be able to override the default hidden behavior on the sphinx rendered scikit-learn.org. See: https://github.com/scikit-learn/scikit-learn/issues/21755 */display: inline-block !important;position: relative;}#sk-container-id-1 div.sk-text-repr-fallback {display: none;}</style><div id=\"sk-container-id-1\" class=\"sk-top-container\"><div class=\"sk-text-repr-fallback\"><pre>LinearRegression()</pre><b>In a Jupyter environment, please rerun this cell to show the HTML representation or trust the notebook. <br />On GitHub, the HTML representation is unable to render, please try loading this page with nbviewer.org.</b></div><div class=\"sk-container\" hidden><div class=\"sk-item\"><div class=\"sk-estimator sk-toggleable\"><input class=\"sk-toggleable__control sk-hidden--visually\" id=\"sk-estimator-id-1\" type=\"checkbox\" checked><label for=\"sk-estimator-id-1\" class=\"sk-toggleable__label sk-toggleable__label-arrow\">LinearRegression</label><div class=\"sk-toggleable__content\"><pre>LinearRegression()</pre></div></div></div></div></div>"
      ],
      "text/plain": [
       "LinearRegression()"
      ]
     },
     "execution_count": 12,
     "metadata": {},
     "output_type": "execute_result"
    }
   ],
   "source": [
    "model = LinearRegression()\n",
    "model.fit(X_train, y_train)"
   ]
  },
  {
   "cell_type": "code",
   "execution_count": 13,
   "metadata": {},
   "outputs": [
    {
     "data": {
      "text/html": [
       "<style>#sk-container-id-2 {color: black;background-color: white;}#sk-container-id-2 pre{padding: 0;}#sk-container-id-2 div.sk-toggleable {background-color: white;}#sk-container-id-2 label.sk-toggleable__label {cursor: pointer;display: block;width: 100%;margin-bottom: 0;padding: 0.3em;box-sizing: border-box;text-align: center;}#sk-container-id-2 label.sk-toggleable__label-arrow:before {content: \"▸\";float: left;margin-right: 0.25em;color: #696969;}#sk-container-id-2 label.sk-toggleable__label-arrow:hover:before {color: black;}#sk-container-id-2 div.sk-estimator:hover label.sk-toggleable__label-arrow:before {color: black;}#sk-container-id-2 div.sk-toggleable__content {max-height: 0;max-width: 0;overflow: hidden;text-align: left;background-color: #f0f8ff;}#sk-container-id-2 div.sk-toggleable__content pre {margin: 0.2em;color: black;border-radius: 0.25em;background-color: #f0f8ff;}#sk-container-id-2 input.sk-toggleable__control:checked~div.sk-toggleable__content {max-height: 200px;max-width: 100%;overflow: auto;}#sk-container-id-2 input.sk-toggleable__control:checked~label.sk-toggleable__label-arrow:before {content: \"▾\";}#sk-container-id-2 div.sk-estimator input.sk-toggleable__control:checked~label.sk-toggleable__label {background-color: #d4ebff;}#sk-container-id-2 div.sk-label input.sk-toggleable__control:checked~label.sk-toggleable__label {background-color: #d4ebff;}#sk-container-id-2 input.sk-hidden--visually {border: 0;clip: rect(1px 1px 1px 1px);clip: rect(1px, 1px, 1px, 1px);height: 1px;margin: -1px;overflow: hidden;padding: 0;position: absolute;width: 1px;}#sk-container-id-2 div.sk-estimator {font-family: monospace;background-color: #f0f8ff;border: 1px dotted black;border-radius: 0.25em;box-sizing: border-box;margin-bottom: 0.5em;}#sk-container-id-2 div.sk-estimator:hover {background-color: #d4ebff;}#sk-container-id-2 div.sk-parallel-item::after {content: \"\";width: 100%;border-bottom: 1px solid gray;flex-grow: 1;}#sk-container-id-2 div.sk-label:hover label.sk-toggleable__label {background-color: #d4ebff;}#sk-container-id-2 div.sk-serial::before {content: \"\";position: absolute;border-left: 1px solid gray;box-sizing: border-box;top: 0;bottom: 0;left: 50%;z-index: 0;}#sk-container-id-2 div.sk-serial {display: flex;flex-direction: column;align-items: center;background-color: white;padding-right: 0.2em;padding-left: 0.2em;position: relative;}#sk-container-id-2 div.sk-item {position: relative;z-index: 1;}#sk-container-id-2 div.sk-parallel {display: flex;align-items: stretch;justify-content: center;background-color: white;position: relative;}#sk-container-id-2 div.sk-item::before, #sk-container-id-2 div.sk-parallel-item::before {content: \"\";position: absolute;border-left: 1px solid gray;box-sizing: border-box;top: 0;bottom: 0;left: 50%;z-index: -1;}#sk-container-id-2 div.sk-parallel-item {display: flex;flex-direction: column;z-index: 1;position: relative;background-color: white;}#sk-container-id-2 div.sk-parallel-item:first-child::after {align-self: flex-end;width: 50%;}#sk-container-id-2 div.sk-parallel-item:last-child::after {align-self: flex-start;width: 50%;}#sk-container-id-2 div.sk-parallel-item:only-child::after {width: 0;}#sk-container-id-2 div.sk-dashed-wrapped {border: 1px dashed gray;margin: 0 0.4em 0.5em 0.4em;box-sizing: border-box;padding-bottom: 0.4em;background-color: white;}#sk-container-id-2 div.sk-label label {font-family: monospace;font-weight: bold;display: inline-block;line-height: 1.2em;}#sk-container-id-2 div.sk-label-container {text-align: center;}#sk-container-id-2 div.sk-container {/* jupyter's `normalize.less` sets `[hidden] { display: none; }` but bootstrap.min.css set `[hidden] { display: none !important; }` so we also need the `!important` here to be able to override the default hidden behavior on the sphinx rendered scikit-learn.org. See: https://github.com/scikit-learn/scikit-learn/issues/21755 */display: inline-block !important;position: relative;}#sk-container-id-2 div.sk-text-repr-fallback {display: none;}</style><div id=\"sk-container-id-2\" class=\"sk-top-container\"><div class=\"sk-text-repr-fallback\"><pre>SelectFromModel(estimator=LinearRegression(), max_features=3, threshold=&#x27;mean&#x27;)</pre><b>In a Jupyter environment, please rerun this cell to show the HTML representation or trust the notebook. <br />On GitHub, the HTML representation is unable to render, please try loading this page with nbviewer.org.</b></div><div class=\"sk-container\" hidden><div class=\"sk-item sk-dashed-wrapped\"><div class=\"sk-label-container\"><div class=\"sk-label sk-toggleable\"><input class=\"sk-toggleable__control sk-hidden--visually\" id=\"sk-estimator-id-2\" type=\"checkbox\" ><label for=\"sk-estimator-id-2\" class=\"sk-toggleable__label sk-toggleable__label-arrow\">SelectFromModel</label><div class=\"sk-toggleable__content\"><pre>SelectFromModel(estimator=LinearRegression(), max_features=3, threshold=&#x27;mean&#x27;)</pre></div></div></div><div class=\"sk-parallel\"><div class=\"sk-parallel-item\"><div class=\"sk-item\"><div class=\"sk-label-container\"><div class=\"sk-label sk-toggleable\"><input class=\"sk-toggleable__control sk-hidden--visually\" id=\"sk-estimator-id-3\" type=\"checkbox\" ><label for=\"sk-estimator-id-3\" class=\"sk-toggleable__label sk-toggleable__label-arrow\">estimator: LinearRegression</label><div class=\"sk-toggleable__content\"><pre>LinearRegression()</pre></div></div></div><div class=\"sk-serial\"><div class=\"sk-item\"><div class=\"sk-estimator sk-toggleable\"><input class=\"sk-toggleable__control sk-hidden--visually\" id=\"sk-estimator-id-4\" type=\"checkbox\" ><label for=\"sk-estimator-id-4\" class=\"sk-toggleable__label sk-toggleable__label-arrow\">LinearRegression</label><div class=\"sk-toggleable__content\"><pre>LinearRegression()</pre></div></div></div></div></div></div></div></div></div></div>"
      ],
      "text/plain": [
       "SelectFromModel(estimator=LinearRegression(), max_features=3, threshold='mean')"
      ]
     },
     "execution_count": 13,
     "metadata": {},
     "output_type": "execute_result"
    }
   ],
   "source": [
    "selector = SelectFromModel(model, threshold=\"mean\", max_features=3)\n",
    "selector.fit(X_train, y_train)\n"
   ]
  },
  {
   "cell_type": "code",
   "execution_count": 14,
   "metadata": {},
   "outputs": [],
   "source": [
    "X_train_selected = selector.transform(X_train)\n",
    "X_test_selected = selector.transform(X_test)"
   ]
  },
  {
   "cell_type": "code",
   "execution_count": 15,
   "metadata": {},
   "outputs": [],
   "source": [
    "model.fit(X_train_selected, y_train)\n",
    "y_pred = model.predict(X_test_selected)"
   ]
  },
  {
   "cell_type": "code",
   "execution_count": 16,
   "metadata": {},
   "outputs": [
    {
     "name": "stdout",
     "output_type": "stream",
     "text": [
      "SelectFromModel - Mean Squared Error: 0.6903587848508181\n",
      "SelectFromModel - Selected features mask: [ True False False  True False False False  True]\n",
      "SelectFromModel - Number of features selected: 3\n",
      "SelectFromModel - Names of features:  ['x0' 'x3' 'x7']\n"
     ]
    }
   ],
   "source": [
    "print(\"SelectFromModel - Mean Squared Error:\", mean_squared_error(y_test, y_pred))\n",
    "print(\"SelectFromModel - Selected features mask:\", selector.get_support())\n",
    "print(\"SelectFromModel - Number of features selected:\", X_train_selected.shape[1])\n",
    "print(\"SelectFromModel - Names of features: \", selector.get_feature_names_out())"
   ]
  },
  {
   "cell_type": "markdown",
   "metadata": {},
   "source": [
    "# SequentialFeatureSelection"
   ]
  },
  {
   "cell_type": "code",
   "execution_count": 17,
   "metadata": {},
   "outputs": [],
   "source": [
    "model = LinearRegression()"
   ]
  },
  {
   "cell_type": "code",
   "execution_count": 18,
   "metadata": {},
   "outputs": [
    {
     "data": {
      "text/html": [
       "<style>#sk-container-id-3 {color: black;background-color: white;}#sk-container-id-3 pre{padding: 0;}#sk-container-id-3 div.sk-toggleable {background-color: white;}#sk-container-id-3 label.sk-toggleable__label {cursor: pointer;display: block;width: 100%;margin-bottom: 0;padding: 0.3em;box-sizing: border-box;text-align: center;}#sk-container-id-3 label.sk-toggleable__label-arrow:before {content: \"▸\";float: left;margin-right: 0.25em;color: #696969;}#sk-container-id-3 label.sk-toggleable__label-arrow:hover:before {color: black;}#sk-container-id-3 div.sk-estimator:hover label.sk-toggleable__label-arrow:before {color: black;}#sk-container-id-3 div.sk-toggleable__content {max-height: 0;max-width: 0;overflow: hidden;text-align: left;background-color: #f0f8ff;}#sk-container-id-3 div.sk-toggleable__content pre {margin: 0.2em;color: black;border-radius: 0.25em;background-color: #f0f8ff;}#sk-container-id-3 input.sk-toggleable__control:checked~div.sk-toggleable__content {max-height: 200px;max-width: 100%;overflow: auto;}#sk-container-id-3 input.sk-toggleable__control:checked~label.sk-toggleable__label-arrow:before {content: \"▾\";}#sk-container-id-3 div.sk-estimator input.sk-toggleable__control:checked~label.sk-toggleable__label {background-color: #d4ebff;}#sk-container-id-3 div.sk-label input.sk-toggleable__control:checked~label.sk-toggleable__label {background-color: #d4ebff;}#sk-container-id-3 input.sk-hidden--visually {border: 0;clip: rect(1px 1px 1px 1px);clip: rect(1px, 1px, 1px, 1px);height: 1px;margin: -1px;overflow: hidden;padding: 0;position: absolute;width: 1px;}#sk-container-id-3 div.sk-estimator {font-family: monospace;background-color: #f0f8ff;border: 1px dotted black;border-radius: 0.25em;box-sizing: border-box;margin-bottom: 0.5em;}#sk-container-id-3 div.sk-estimator:hover {background-color: #d4ebff;}#sk-container-id-3 div.sk-parallel-item::after {content: \"\";width: 100%;border-bottom: 1px solid gray;flex-grow: 1;}#sk-container-id-3 div.sk-label:hover label.sk-toggleable__label {background-color: #d4ebff;}#sk-container-id-3 div.sk-serial::before {content: \"\";position: absolute;border-left: 1px solid gray;box-sizing: border-box;top: 0;bottom: 0;left: 50%;z-index: 0;}#sk-container-id-3 div.sk-serial {display: flex;flex-direction: column;align-items: center;background-color: white;padding-right: 0.2em;padding-left: 0.2em;position: relative;}#sk-container-id-3 div.sk-item {position: relative;z-index: 1;}#sk-container-id-3 div.sk-parallel {display: flex;align-items: stretch;justify-content: center;background-color: white;position: relative;}#sk-container-id-3 div.sk-item::before, #sk-container-id-3 div.sk-parallel-item::before {content: \"\";position: absolute;border-left: 1px solid gray;box-sizing: border-box;top: 0;bottom: 0;left: 50%;z-index: -1;}#sk-container-id-3 div.sk-parallel-item {display: flex;flex-direction: column;z-index: 1;position: relative;background-color: white;}#sk-container-id-3 div.sk-parallel-item:first-child::after {align-self: flex-end;width: 50%;}#sk-container-id-3 div.sk-parallel-item:last-child::after {align-self: flex-start;width: 50%;}#sk-container-id-3 div.sk-parallel-item:only-child::after {width: 0;}#sk-container-id-3 div.sk-dashed-wrapped {border: 1px dashed gray;margin: 0 0.4em 0.5em 0.4em;box-sizing: border-box;padding-bottom: 0.4em;background-color: white;}#sk-container-id-3 div.sk-label label {font-family: monospace;font-weight: bold;display: inline-block;line-height: 1.2em;}#sk-container-id-3 div.sk-label-container {text-align: center;}#sk-container-id-3 div.sk-container {/* jupyter's `normalize.less` sets `[hidden] { display: none; }` but bootstrap.min.css set `[hidden] { display: none !important; }` so we also need the `!important` here to be able to override the default hidden behavior on the sphinx rendered scikit-learn.org. See: https://github.com/scikit-learn/scikit-learn/issues/21755 */display: inline-block !important;position: relative;}#sk-container-id-3 div.sk-text-repr-fallback {display: none;}</style><div id=\"sk-container-id-3\" class=\"sk-top-container\"><div class=\"sk-text-repr-fallback\"><pre>SequentialFeatureSelector(estimator=LinearRegression(), n_features_to_select=3)</pre><b>In a Jupyter environment, please rerun this cell to show the HTML representation or trust the notebook. <br />On GitHub, the HTML representation is unable to render, please try loading this page with nbviewer.org.</b></div><div class=\"sk-container\" hidden><div class=\"sk-item sk-dashed-wrapped\"><div class=\"sk-label-container\"><div class=\"sk-label sk-toggleable\"><input class=\"sk-toggleable__control sk-hidden--visually\" id=\"sk-estimator-id-5\" type=\"checkbox\" ><label for=\"sk-estimator-id-5\" class=\"sk-toggleable__label sk-toggleable__label-arrow\">SequentialFeatureSelector</label><div class=\"sk-toggleable__content\"><pre>SequentialFeatureSelector(estimator=LinearRegression(), n_features_to_select=3)</pre></div></div></div><div class=\"sk-parallel\"><div class=\"sk-parallel-item\"><div class=\"sk-item\"><div class=\"sk-label-container\"><div class=\"sk-label sk-toggleable\"><input class=\"sk-toggleable__control sk-hidden--visually\" id=\"sk-estimator-id-6\" type=\"checkbox\" ><label for=\"sk-estimator-id-6\" class=\"sk-toggleable__label sk-toggleable__label-arrow\">estimator: LinearRegression</label><div class=\"sk-toggleable__content\"><pre>LinearRegression()</pre></div></div></div><div class=\"sk-serial\"><div class=\"sk-item\"><div class=\"sk-estimator sk-toggleable\"><input class=\"sk-toggleable__control sk-hidden--visually\" id=\"sk-estimator-id-7\" type=\"checkbox\" ><label for=\"sk-estimator-id-7\" class=\"sk-toggleable__label sk-toggleable__label-arrow\">LinearRegression</label><div class=\"sk-toggleable__content\"><pre>LinearRegression()</pre></div></div></div></div></div></div></div></div></div></div>"
      ],
      "text/plain": [
       "SequentialFeatureSelector(estimator=LinearRegression(), n_features_to_select=3)"
      ]
     },
     "execution_count": 18,
     "metadata": {},
     "output_type": "execute_result"
    }
   ],
   "source": [
    "selector = SequentialFeatureSelector(model, n_features_to_select=3, direction='forward')\n",
    "\n",
    "selector.fit(X_train, y_train)"
   ]
  },
  {
   "cell_type": "code",
   "execution_count": 19,
   "metadata": {},
   "outputs": [],
   "source": [
    "X_train_selected = selector.transform(X_train)\n",
    "X_test_selected = selector.transform(X_test)"
   ]
  },
  {
   "cell_type": "code",
   "execution_count": 20,
   "metadata": {},
   "outputs": [],
   "source": [
    "model.fit(X_train_selected, y_train)\n",
    "y_pred = model.predict(X_test_selected)"
   ]
  },
  {
   "cell_type": "code",
   "execution_count": 21,
   "metadata": {},
   "outputs": [
    {
     "name": "stdout",
     "output_type": "stream",
     "text": [
      "SequentialFeatureSelector - Mean Squared Error: 0.6334633000454126\n",
      "SequentialFeatureSelector - Selected features mask: [ True  True False False False False  True False]\n",
      "SequentialFeatureSelector - Number of features selected: 3\n",
      "SequentialFeatureSelector - Names of features:  ['x0' 'x1' 'x6']\n"
     ]
    }
   ],
   "source": [
    "print(\"SequentialFeatureSelector - Mean Squared Error:\", mean_squared_error(y_test, y_pred))\n",
    "print(\"SequentialFeatureSelector - Selected features mask:\", selector.get_support())\n",
    "print(\"SequentialFeatureSelector - Number of features selected:\", X_train_selected.shape[1])\n",
    "print(\"SequentialFeatureSelector - Names of features: \", selector.get_feature_names_out())"
   ]
  }
 ],
 "metadata": {
  "kernelspec": {
   "display_name": "base",
   "language": "python",
   "name": "python3"
  },
  "language_info": {
   "codemirror_mode": {
    "name": "ipython",
    "version": 3
   },
   "file_extension": ".py",
   "mimetype": "text/x-python",
   "name": "python",
   "nbconvert_exporter": "python",
   "pygments_lexer": "ipython3",
   "version": "3.11.7"
  }
 },
 "nbformat": 4,
 "nbformat_minor": 2
}
